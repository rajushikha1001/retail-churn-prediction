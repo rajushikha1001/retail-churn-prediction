{
 "cells": [
  {
   "cell_type": "code",
   "execution_count": null,
   "id": "7d78417f",
   "metadata": {
    "vscode": {
     "languageId": "plaintext"
    }
   },
   "outputs": [],
   "source": [
    "# --- Imports ---\n",
    "import pandas as pd\n",
    "from sklearn.model_selection import train_test_split\n",
    "from sklearn.ensemble import RandomForestClassifier, GradientBoostingClassifier\n",
    "from sklearn.metrics import accuracy_score, f1_score\n",
    "import joblib\n",
    "\n",
    "# --- Load processed data ---\n",
    "df = pd.read_csv('../data/processed/retail_customers_cleaned.csv')\n",
    "\n",
    "# --- Feature Engineering Example ---\n",
    "df['TotalSpendPerTenure'] = df['TotalSpend'] / (df['Tenure'] + 1)\n",
    "\n",
    "# --- Train-Test Split ---\n",
    "X = df.drop('Churn', axis=1)\n",
    "y = df['Churn']\n",
    "X_train, X_test, y_train, y_test = train_test_split(X, y, test_size=0.2, random_state=42)\n",
    "\n",
    "# --- Model Training ---\n",
    "rf = RandomForestClassifier(n_estimators=200, random_state=42)\n",
    "gb = GradientBoostingClassifier(random_state=42)\n",
    "\n",
    "rf.fit(X_train, y_train)\n",
    "gb.fit(X_train, y_train)\n",
    "\n",
    "# --- Evaluate ---\n",
    "rf_preds = rf.predict(X_test)\n",
    "gb_preds = gb.predict(X_test)\n",
    "\n",
    "rf_acc = accuracy_score(y_test, rf_preds)\n",
    "gb_acc = accuracy_score(y_test, gb_preds)\n",
    "\n",
    "print(f\"RandomForest Accuracy: {rf_acc:.3f}\")\n",
    "print(f\"GradientBoosting Accuracy: {gb_acc:.3f}\")\n",
    "\n",
    "# --- Choose Best Model ---\n",
    "best_model = rf if rf_acc > gb_acc else gb\n",
    "print(f\"Selected Model: {type(best_model).__name__}\")\n",
    "\n",
    "# --- Save the model ---\n",
    "joblib.dump(best_model, '../model/churn_model.pkl')\n"
   ]
  }
 ],
 "metadata": {
  "language_info": {
   "name": "python"
  }
 },
 "nbformat": 4,
 "nbformat_minor": 5
}
