{
 "cells": [
  {
   "cell_type": "code",
   "execution_count": null,
   "id": "1c40163b",
   "metadata": {
    "vscode": {
     "languageId": "plaintext"
    }
   },
   "outputs": [],
   "source": [
    "# --- Imports ---\n",
    "import pandas as pd\n",
    "import joblib\n",
    "from sklearn.metrics import confusion_matrix, roc_auc_score, classification_report\n",
    "import seaborn as sns\n",
    "import matplotlib.pyplot as plt\n",
    "\n",
    "# --- Load model and test data ---\n",
    "model = joblib.load('../model/churn_model.pkl')\n",
    "df = pd.read_csv('../data/processed/retail_customers_cleaned.csv')\n",
    "\n",
    "# Prepare features and target\n",
    "X = df.drop('Churn', axis=1)\n",
    "y = df['Churn']\n",
    "\n",
    "# --- Predictions ---\n",
    "y_pred = model.predict(X)\n",
    "\n",
    "# --- Metrics ---\n",
    "print(classification_report(y, y_pred))\n",
    "print(f\"ROC-AUC: {roc_auc_score(y, y_pred):.3f}\")\n",
    "\n",
    "# --- Confusion Matrix ---\n",
    "cm = confusion_matrix(y, y_pred)\n",
    "sns.heatmap(cm, annot=True, fmt='d', cmap='Blues')\n",
    "plt.title('Confusion Matrix')\n",
    "plt.xlabel('Predicted')\n",
    "plt.ylabel('Actual')\n",
    "plt.show()\n",
    "\n",
    "# --- Feature Importance ---\n",
    "if hasattr(model, 'feature_importances_'):\n",
    "    feat_importances = pd.Series(model.feature_importances_, index=X.columns)\n",
    "    feat_importances.nlargest(10).plot(kind='barh')\n",
    "    plt.title('Top 10 Feature Importances')\n",
    "    plt.show()\n"
   ]
  }
 ],
 "metadata": {
  "language_info": {
   "name": "python"
  }
 },
 "nbformat": 4,
 "nbformat_minor": 5
}
