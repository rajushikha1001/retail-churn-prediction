{
 "cells": [
  {
   "cell_type": "code",
   "execution_count": null,
   "id": "92896dbe",
   "metadata": {
    "vscode": {
     "languageId": "plaintext"
    }
   },
   "outputs": [],
   "source": [
    "# --- Imports ---\n",
    "import pandas as pd\n",
    "import matplotlib.pyplot as plt\n",
    "import seaborn as sns\n",
    "\n",
    "# --- Load raw data ---\n",
    "df = pd.read_csv('../data/raw/retail_customers.csv')\n",
    "print(df.head())\n",
    "\n",
    "# --- Basic Info ---\n",
    "print(df.info())\n",
    "print(df.describe())\n",
    "\n",
    "# --- Missing values ---\n",
    "missing = df.isnull().sum()\n",
    "print(\"Missing values:\\n\", missing)\n",
    "\n",
    "# --- Exploratory Data Analysis (EDA) ---\n",
    "sns.countplot(x='Churn', data=df)\n",
    "plt.title('Customer Churn Distribution')\n",
    "plt.show()\n",
    "\n",
    "sns.histplot(df['Age'], bins=20, kde=True)\n",
    "plt.title('Customer Age Distribution')\n",
    "plt.show()\n",
    "\n",
    "sns.boxplot(x='Churn', y='TotalSpend', data=df)\n",
    "plt.title('Spending by Churn Status')\n",
    "plt.show()\n",
    "\n",
    "# --- Correlation Heatmap ---\n",
    "corr = df.corr(numeric_only=True)\n",
    "plt.figure(figsize=(10,8))\n",
    "sns.heatmap(corr, cmap='coolwarm', annot=True)\n",
    "plt.title('Correlation Matrix')\n",
    "plt.show()\n",
    "\n",
    "# --- Save cleaned version for next steps ---\n",
    "df.to_csv('../data/processed/retail_customers_cleaned.csv', index=False)\n"
   ]
  }
 ],
 "metadata": {
  "language_info": {
   "name": "python"
  }
 },
 "nbformat": 4,
 "nbformat_minor": 5
}
